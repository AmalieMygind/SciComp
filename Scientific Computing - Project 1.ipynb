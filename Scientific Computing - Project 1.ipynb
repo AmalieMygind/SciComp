{
 "cells": [
  {
   "cell_type": "markdown",
   "id": "b16f86e6",
   "metadata": {},
   "source": [
    "# Load packages {-}"
   ]
  },
  {
   "cell_type": "code",
   "execution_count": 1,
   "id": "ecc53b43",
   "metadata": {},
   "outputs": [],
   "source": [
    "import numpy as np\n",
    "from numpy.linalg import inv\n",
    "from numpy.linalg import solve\n",
    "import pandas as pd\n",
    "import matplotlib.pyplot as plt\n",
    "plt.rcParams['figure.figsize'] = [4, 3] #set custom figure size"
   ]
  },
  {
   "cell_type": "markdown",
   "id": "7f3dce5b",
   "metadata": {},
   "source": [
    "# Import and define data {-}"
   ]
  },
  {
   "cell_type": "code",
   "execution_count": 2,
   "id": "5b192774",
   "metadata": {},
   "outputs": [],
   "source": [
    "Amat = np.array([\n",
    "    [22.13831203, 0.16279204, 0.02353879, 0.02507880,-0.02243145,-0.02951967,-0.02401863],\n",
    "    [0.16279204, 29.41831006, 0.02191543,-0.06341569, 0.02192010, 0.03284020, 0.03014052],\n",
    "    [0.02353879,  0.02191543, 1.60947260,-0.01788177, 0.07075279, 0.03659182, 0.06105488],\n",
    "    [0.02507880, -0.06341569,-0.01788177, 9.36187184,-0.07751218, 0.00541094,-0.10660903],\n",
    "    [-0.02243145, 0.02192010, 0.07075279,-0.07751218, 0.71033323, 0.10958126, 0.12061597],\n",
    "    [-0.02951967, 0.03284020, 0.03659182, 0.00541094, 0.10958126, 8.38326265, 0.06673979],\n",
    "    [-0.02401863, 0.03014052, 0.06105488,-0.10660903, 0.12061597, 0.06673979, 1.15733569]])\n",
    "\n",
    "Bmat = np.array([\n",
    "    [-0.03423002, 0.09822473,-0.00832308,-0.02524951,-0.00015116, 0.05321264, 0.01834117],\n",
    "    [ 0.09822473,-0.51929354,-0.02050445, 0.10769768,-0.02394699,-0.04550922,-0.02907560],\n",
    "    [-0.00832308,-0.02050445,-0.11285991, 0.04843759,-0.06732213,-0.08106876,-0.13042524],\n",
    "    [-0.02524951, 0.10769768, 0.04843759,-0.10760461, 0.09008724, 0.05284246, 0.10728227],\n",
    "    [-0.00015116,-0.02394699,-0.06732213, 0.09008724,-0.07596617,-0.02290627,-0.12421902],\n",
    "    [ 0.05321264,-0.04550922,-0.08106876, 0.05284246,-0.02290627,-0.07399581,-0.07509467],\n",
    "    [ 0.01834117,-0.02907560,-0.13042524, 0.10728227,-0.12421902,-0.07509467,-0.16777868]])\n",
    "\n",
    "yvec = np.array([-0.05677315,-0.00902581, 0.16002152, 0.07001784, 0.67801388,-0.10904168, 0.90505180])\n",
    "\n",
    "E = np.block([[Amat,Bmat],[Bmat,Amat]])\n",
    "\n",
    "S = np.block([[np.identity(7),np.zeros((7,7))],[np.zeros((7,7)),-np.identity(7)]])\n",
    "\n",
    "z = np.concatenate((yvec,-yvec),axis=None)"
   ]
  },
  {
   "cell_type": "markdown",
   "id": "01a24467",
   "metadata": {},
   "source": [
    "# Question a {-}\n",
    "Below a function is written to compute the condition number of a matrix under the max-norm."
   ]
  },
  {
   "cell_type": "code",
   "execution_count": 3,
   "id": "451880f7",
   "metadata": {},
   "outputs": [],
   "source": [
    "def max_norm_cond(M):\n",
    "    M_inv = inv(M)\n",
    "    max_norm = max(sum(abs(M)))\n",
    "    inv_max_norm = max(sum(abs(M_inv)))\n",
    "    \n",
    "    return max_norm*inv_max_norm  "
   ]
  },
  {
   "cell_type": "markdown",
   "id": "5ca0b7da",
   "metadata": {},
   "source": [
    "Below the condition number is calculated for the matrix <b>E</b> − $\\omega$<b>S</b> for three frequencies, $\\omega$ = {1.300, 1.607, 3.000}, using the above defined function. "
   ]
  },
  {
   "cell_type": "code",
   "execution_count": 4,
   "id": "bb95cbcb",
   "metadata": {},
   "outputs": [
    {
     "name": "stdout",
     "output_type": "stream",
     "text": [
      "The condition numbers for the E-wS matrix using the three frequencies are\n",
      "[303.0741906688339, 327825.2278438225, 35.55204847098013]\n"
     ]
    }
   ],
   "source": [
    "#calculate condition numbers for ωs\n",
    "ws = np.array([1.300,1.607,2.700])\n",
    "\n",
    "cond_nums = [max_norm_cond(E-w*S) for w in ws]\n",
    "\n",
    "print('The condition numbers for the E-wS matrix using the three frequencies are\\n'+ str(cond_nums)) "
   ]
  },
  {
   "cell_type": "markdown",
   "id": "e76423ca",
   "metadata": {},
   "source": [
    "In the matrix equation (<b>E</b>-$\\omega$<b>S</b>)<b>x</b> = <b>z</b>, <b>z</b> is given with 8 significant digits. The number of significant digits in the output <b>x</b> can be approximated as the number of significant digits in the input <b>z</b> minus log of the condition number assuming everything else is exact. Below the number of signficiant digits of <b>x</b> for the three different values of $\\omega$ are computed."
   ]
  },
  {
   "cell_type": "code",
   "execution_count": 5,
   "id": "f39dfa81",
   "metadata": {},
   "outputs": [
    {
     "name": "stdout",
     "output_type": "stream",
     "text": [
      "The number of significant digits to be guaranteed in x for the three frequencies [1.3   1.607 2.7  ] are\n",
      "[5.518451045906735, 2.4843576282768707, 6.449135370630066] respectively.\n"
     ]
    }
   ],
   "source": [
    "#how many significant digits in x?\n",
    "sign_digits = []\n",
    "for cond_num in cond_nums:\n",
    "    sign_digits.append(8-np.log10(cond_num)) #z is given with 8 significant digits\n",
    "\n",
    "print('The number of significant digits to be guaranteed in x for the three frequencies '+str(ws)+' are\\n'+str(sign_digits)+' respectively.')   "
   ]
  },
  {
   "cell_type": "markdown",
   "id": "bec0f802",
   "metadata": {},
   "source": [
    "# Question b {-}\n",
    "\n",
    "Below are calculated the upper bounds on relative forward error in max-norm of <b>x</b> for the three frequencies. $\\delta\\omega=\\frac{1}{2}\\cdot 10^{-3}$ is the change in frequency being the perturbation."
   ]
  },
  {
   "cell_type": "code",
   "execution_count": 6,
   "id": "7e25cc08",
   "metadata": {},
   "outputs": [
    {
     "name": "stdout",
     "output_type": "stream",
     "text": [
      "The bounds on relative forward error in max-norm of x for the three frequencies are\n",
      "[0.004751036527331959, 5.090045024626281, 0.0005338853054581691] respectively.\n"
     ]
    }
   ],
   "source": [
    "#calculate bounds for ωs\n",
    "dw = (1/2)*10**(-3)\n",
    "\n",
    "bounds = []\n",
    "for w in ws:\n",
    "    cond = max_norm_cond(E-w*S) #compute condition number\n",
    "    dwS_norm = max(sum(abs(dw*S))) #compute max-norm for dwS matrix\n",
    "    EwS_norm = max(sum(abs(E-w*S))) #compute max-norm for E-wS matrix\n",
    "    \n",
    "    bounds.append(cond*(dwS_norm/EwS_norm))\n",
    "\n",
    "print('The bounds on relative forward error in max-norm of x for the three frequencies are\\n'+str(bounds)+' respectively.')"
   ]
  },
  {
   "cell_type": "markdown",
   "id": "0b4263d9",
   "metadata": {},
   "source": [
    "The number of significant digits in <b>x</b> can be computed as minus the log of the relative forward error which was just computed above. For the three frequencies this guarantees 2, 0 and 3 significant digits in <b>x</b> respectively. "
   ]
  },
  {
   "cell_type": "markdown",
   "id": "df6f5515",
   "metadata": {},
   "source": [
    "# Question c {-}\n",
    "Below a function is written to perform LU factorization on a square matrix. "
   ]
  },
  {
   "cell_type": "code",
   "execution_count": 7,
   "id": "5f4a33d2",
   "metadata": {},
   "outputs": [],
   "source": [
    "#LU factorization\n",
    "def lu_factorize(M):\n",
    "    n = np.shape(M)[0]\n",
    "    L = np.identity(n)\n",
    "    U = np.copy(M).astype('float64')\n",
    "    \n",
    "    for i in range(n): #loop over rows in input matrix\n",
    "        k = U[i+1:,i]/U[i, i] #compute row multiple(s) to subtract by dividing element(s) by pivot\n",
    "        L[i+1:, i] = k #insert multiple(s) to create lower triangular matrix\n",
    "        U[i+1:] -= k[:, np.newaxis]*U[i] #subtract multiple(s) of rows to eliminate subdiagonals\n",
    "        \n",
    "    return L, U"
   ]
  },
  {
   "cell_type": "markdown",
   "id": "2864bdc8",
   "metadata": {},
   "source": [
    "Below is written a function to take the lower triangular output matrix from the above function along with a vector and return a solution vector to the linear matrix equation."
   ]
  },
  {
   "cell_type": "code",
   "execution_count": 8,
   "id": "07f7958e",
   "metadata": {},
   "outputs": [],
   "source": [
    "#forward substitution\n",
    "def forward_sub(L, b):\n",
    "    n = np.shape(L)[0]\n",
    "    y = np.zeros(n) #initialize solution vector as zeros\n",
    "    \n",
    "    y[0] = b[0]/L[0,0] #use first row of L to give first element of y\n",
    "    for i in range(1,n):\n",
    "        y[i] = (b[i]-np.dot(L[i,:i], y[:i]))/L[i,i] #perform forward substitution row-wise from top\n",
    "    \n",
    "    return y  "
   ]
  },
  {
   "cell_type": "markdown",
   "id": "b7610ee2",
   "metadata": {},
   "source": [
    "Below is written a function to take the upper triangular output matrix from the first function along with a vector and return the solution vector to the linear matrix equation. "
   ]
  },
  {
   "cell_type": "code",
   "execution_count": 9,
   "id": "ec9a1270",
   "metadata": {},
   "outputs": [],
   "source": [
    "#back substitution\n",
    "def back_sub(U, y):\n",
    "    n = np.shape(U)[0]\n",
    "    x = np.zeros(n) #initialize solution vector as zeros\n",
    "    \n",
    "    x[-1] = y[-1]/U[-1,-1] #use last row of U to give last element of x\n",
    "    for i in range(n-2,-1,-1):\n",
    "        x[i] = (y[i]-np.dot(U[i,i:], x[i:]))/U[i,i] #perform back substitution row-wise from bottom\n",
    "    \n",
    "    return x"
   ]
  },
  {
   "cell_type": "markdown",
   "id": "340c016e",
   "metadata": {},
   "source": [
    "Below the functions are tested together against Numpy's linear algebra library to confirm that they work."
   ]
  },
  {
   "cell_type": "code",
   "execution_count": 10,
   "id": "4cdbafd4",
   "metadata": {},
   "outputs": [
    {
     "name": "stdout",
     "output_type": "stream",
     "text": [
      "[-4.  7.  5.]\n",
      "[-4.  7.  5.]\n"
     ]
    },
    {
     "data": {
      "text/plain": [
       "True"
      ]
     },
     "execution_count": 10,
     "metadata": {},
     "output_type": "execute_result"
    }
   ],
   "source": [
    "#test if works\n",
    "A = np.array([[2,1,1], [4,1,4], [-6,-5,3]])\n",
    "b = np.array([4,11,4])\n",
    "\n",
    "#solve using above functions\n",
    "L, U = lu_factorize(A)\n",
    "y = forward_sub(L, b)\n",
    "x = back_sub(U, y)\n",
    "\n",
    "#solve using numpy's linear algebra library (library loaded in first cell)\n",
    "np_x = solve(A, b)\n",
    "\n",
    "#compare solutions\n",
    "print(x) == print(np_x) "
   ]
  },
  {
   "cell_type": "markdown",
   "id": "e2fd257d",
   "metadata": {},
   "source": [
    "# Question d {-}\n",
    "Below a function is defined to compute the polarizability $\\alpha$ using the three functions defined in question c."
   ]
  },
  {
   "cell_type": "code",
   "execution_count": 11,
   "id": "a178505e",
   "metadata": {},
   "outputs": [],
   "source": [
    "#define polarizability function\n",
    "def solve_alpha(z,M):\n",
    "    L,U = lu_factorize(M)\n",
    "    y = forward_sub(L,z)\n",
    "    x = back_sub(U,y)\n",
    "    a = z@x\n",
    "    \n",
    "    return a"
   ]
  },
  {
   "cell_type": "markdown",
   "id": "1e8339d8",
   "metadata": {},
   "source": [
    "Below the polarizabilities due to the perturbation in the frequencies are calculated and shown in a table. "
   ]
  },
  {
   "cell_type": "code",
   "execution_count": 12,
   "id": "bda7f031",
   "metadata": {},
   "outputs": [
    {
     "data": {
      "text/html": [
       "<div>\n",
       "<style scoped>\n",
       "    .dataframe tbody tr th:only-of-type {\n",
       "        vertical-align: middle;\n",
       "    }\n",
       "\n",
       "    .dataframe tbody tr th {\n",
       "        vertical-align: top;\n",
       "    }\n",
       "\n",
       "    .dataframe thead th {\n",
       "        text-align: right;\n",
       "    }\n",
       "</style>\n",
       "<table border=\"1\" class=\"dataframe\">\n",
       "  <thead>\n",
       "    <tr style=\"text-align: right;\">\n",
       "      <th></th>\n",
       "      <th>Frequency</th>\n",
       "      <th>Polarizability</th>\n",
       "    </tr>\n",
       "  </thead>\n",
       "  <tbody>\n",
       "    <tr>\n",
       "      <th>0</th>\n",
       "      <td>1.3005</td>\n",
       "      <td>-4.858572</td>\n",
       "    </tr>\n",
       "    <tr>\n",
       "      <th>1</th>\n",
       "      <td>1.2995</td>\n",
       "      <td>-4.893434</td>\n",
       "    </tr>\n",
       "    <tr>\n",
       "      <th>2</th>\n",
       "      <td>1.6075</td>\n",
       "      <td>-91.093531</td>\n",
       "    </tr>\n",
       "    <tr>\n",
       "      <th>3</th>\n",
       "      <td>1.6065</td>\n",
       "      <td>151.096727</td>\n",
       "    </tr>\n",
       "    <tr>\n",
       "      <th>4</th>\n",
       "      <td>2.7005</td>\n",
       "      <td>-0.375769</td>\n",
       "    </tr>\n",
       "    <tr>\n",
       "      <th>5</th>\n",
       "      <td>2.6995</td>\n",
       "      <td>-0.376118</td>\n",
       "    </tr>\n",
       "  </tbody>\n",
       "</table>\n",
       "</div>"
      ],
      "text/plain": [
       "   Frequency  Polarizability\n",
       "0     1.3005       -4.858572\n",
       "1     1.2995       -4.893434\n",
       "2     1.6075      -91.093531\n",
       "3     1.6065      151.096727\n",
       "4     2.7005       -0.375769\n",
       "5     2.6995       -0.376118"
      ]
     },
     "execution_count": 12,
     "metadata": {},
     "output_type": "execute_result"
    }
   ],
   "source": [
    "#make table of frequencies and polarizabilities\n",
    "dw = (1/2)*10**(-3) #perturbation in frequencies\n",
    "ws = np.array([1.300, 1.607, 2.700]) #list of unperturbed frequencies\n",
    "\n",
    "alphas = [] #list of unperturbed polarizabilities\n",
    "for w in (ws):\n",
    "    M = E-w*S\n",
    "    alphas.append(solve_alpha(z,M))\n",
    "\n",
    "pert_ws = [] #list of perturbed frequencies\n",
    "for w in ws:\n",
    "    pert_ws.append(w+dw)\n",
    "    pert_ws.append(w-dw)\n",
    "\n",
    "pert_alphas = [] #list of perturbed polarizabilities\n",
    "for w in (pert_ws):\n",
    "    M = E-w*S\n",
    "    pert_alphas.append(solve_alpha(z,M))\n",
    "    \n",
    "freqs_and_alphas = pd.DataFrame(np.array([(pert_ws),pert_alphas]).T, columns=['Frequency', 'Polarizability'])\n",
    "freqs_and_alphas"
   ]
  },
  {
   "cell_type": "markdown",
   "id": "9302b615",
   "metadata": {},
   "source": [
    "The error-bound calculated in question b is the correct one to understand the variation of the calculated polarizabilities due to the perturbation. The perturbation was not yet introduced in question a. \n",
    "Below the relative forward errors in the polarizabilities due to the perturbation are calculated. "
   ]
  },
  {
   "cell_type": "code",
   "execution_count": 13,
   "id": "8e913a99",
   "metadata": {},
   "outputs": [
    {
     "name": "stdout",
     "output_type": "stream",
     "text": [
      "The relative forward errors in alpha, and thereby x, caused by the perturbation in the omegas are\n",
      "[0.003563590897527208, 0.7905706191573287, 0.00046435429849739503]\n",
      "for the three omegas respectively.\n"
     ]
    }
   ],
   "source": [
    "#calculate relative forward errors \n",
    "errors = []\n",
    "for i in range(len(ws)):\n",
    "    errors.append((alphas[i]-pert_alphas[2*i])/alphas[i])\n",
    "\n",
    "print('The relative forward errors in alpha, and thereby x, caused by the perturbation in the omegas are\\n'+(str(errors))+'\\nfor the three omegas respectively.')"
   ]
  },
  {
   "cell_type": "markdown",
   "id": "f79e4cb1",
   "metadata": {},
   "source": [
    "The relative errors fall within the bounds calculated in question b. "
   ]
  },
  {
   "cell_type": "markdown",
   "id": "5c741a93",
   "metadata": {},
   "source": [
    "# Question e {-}\n",
    "Below the polarizabilities for 1000 evenly spaced frequencies in the interval [1.2,4] are computed and plotted. "
   ]
  },
  {
   "cell_type": "code",
   "execution_count": 14,
   "id": "ea73c397",
   "metadata": {},
   "outputs": [
    {
     "data": {
      "image/png": "[encoded data removed]",
      "text/plain": [
       "<Figure size 288x216 with 1 Axes>"
      ]
     },
     "metadata": {
      "needs_background": "light"
     },
     "output_type": "display_data"
    }
   ],
   "source": [
    "#polarizability for 1000 evenly spaced frequencies\n",
    "new_ws = np.linspace(1.2,4,1000)\n",
    "new_alphas = []\n",
    "\n",
    "for w in new_ws:\n",
    "    M = E-w*S\n",
    "    new_alphas.append(solve_alpha(z,M))\n",
    "    \n",
    "plt.figure()\n",
    "plt.plot(new_ws, new_alphas, '.-')\n",
    "plt.title('Polarizability for 1000 evenly \\n spaced frequencies')\n",
    "plt.xlabel('Frequency')\n",
    "plt.ylabel('Polarizability')\n",
    "plt.show()"
   ]
  },
  {
   "cell_type": "markdown",
   "id": "00a82904",
   "metadata": {},
   "source": [
    "Around $\\omega$=1.60686978 the matrix <b>E</b>-$\\omega$<b>S</b> becomes singular which causes the polarizability to blow up (go to infinity).  "
   ]
  },
  {
   "cell_type": "markdown",
   "id": "752d0107",
   "metadata": {},
   "source": [
    "# Question f {-}\n",
    "\n",
    "Below a routine is implemented to compute the QR decomposition of a matrix using the Householder method."
   ]
  },
  {
   "cell_type": "code",
   "execution_count": 15,
   "id": "13968647",
   "metadata": {},
   "outputs": [],
   "source": [
    "def euc_norm(x): #compute the euclidean norm of vector x\n",
    "    return np.sqrt(np.sum(x**2))\n",
    "\n",
    "def find_v(a,i): #compute the Householder vector for the column vector\n",
    "    e1 = np.zeros_like(a)\n",
    "    e1[i] = 1\n",
    "    v = a+np.sign(a[i])*euc_norm(a)*e1\n",
    "    return v\n",
    "\n",
    "def householder(v): #compute the Householder transformation matrix\n",
    "    n = len(v)\n",
    "    I = np.identity(n)\n",
    "    H = I-(2/(v.T@v))*(np.outer(v,v.T))\n",
    "    return H\n",
    "\n",
    "def QR(M): #perform the Householder transformation\n",
    "    Hs = []\n",
    "    R = np.copy(M)\n",
    "    for i in range(np.shape(M)[1]):        \n",
    "        a = np.copy(R[:,i])\n",
    "        a[:i] = 0\n",
    "        v = find_v(a,i)\n",
    "        H = householder(v)\n",
    "        Hs.append(H)\n",
    "        new_R = H@R\n",
    "        R = np.copy(new_R)\n",
    "    \n",
    "    Q = np.linalg.multi_dot(Hs)\n",
    "    \n",
    "    return R, Q"
   ]
  },
  {
   "cell_type": "markdown",
   "id": "87cf1d6a",
   "metadata": {},
   "source": [
    "Below it is confirmed that the routine works using the test matrix."
   ]
  },
  {
   "cell_type": "code",
   "execution_count": 16,
   "id": "2258add4",
   "metadata": {},
   "outputs": [
    {
     "name": "stdout",
     "output_type": "stream",
     "text": [
      "True\n",
      "True\n",
      "True\n"
     ]
    }
   ],
   "source": [
    "A_test = np.array([[1,0,0],[0,1,0],[0,0,1],[-1,1,0],[-1,0,1],[0,-1,1]])\n",
    "b_test = np.array([1237,1941,2417,711,1177,475])\n",
    "\n",
    "R, Q = QR(A_test)\n",
    "print(np.allclose(Q.T@Q,Q@Q.T)) #check if Q^TQ=QQ^T\n",
    "print(np.allclose(Q.T@Q,np.identity(len(Q)))) #check if Q^TQ=I\n",
    "print(np.allclose(Q@R,A_test)) #check if QR=A_test"
   ]
  },
  {
   "cell_type": "markdown",
   "id": "5760e4a4",
   "metadata": {},
   "source": [
    "Below a rutine is implemented to compute a linear least squares fitting using the above QR decomposition and the back substitution from question c. \n",
    "The upper, non-zero, half of <b>R</b> and the upper half of the test vector are used to compute the approximate solution for <b>x</b>. "
   ]
  },
  {
   "cell_type": "code",
   "execution_count": 17,
   "id": "cd4ed06b",
   "metadata": {},
   "outputs": [],
   "source": [
    "def least_squares(A,b):\n",
    "    R, Q = QR(A)\n",
    "    d = (Q.T@b)[:np.shape(A)[1]]\n",
    "    upper_R = R[:np.shape(A)[1]]\n",
    "    x = back_sub(upper_R, d)\n",
    "    return x"
   ]
  },
  {
   "cell_type": "markdown",
   "id": "67098d90",
   "metadata": {},
   "source": [
    "Below it is confirmed that the rutine works using the test matrix and vector to get the same solution vector as in the book."
   ]
  },
  {
   "cell_type": "code",
   "execution_count": 18,
   "id": "48deba7b",
   "metadata": {},
   "outputs": [
    {
     "data": {
      "text/plain": [
       "array([1236., 1943., 2416.])"
      ]
     },
     "execution_count": 18,
     "metadata": {},
     "output_type": "execute_result"
    }
   ],
   "source": [
    "least_squares(A_test, b_test)"
   ]
  },
  {
   "cell_type": "markdown",
   "id": "e2d0564f",
   "metadata": {},
   "source": [
    "# Question g {-}\n",
    "I choose $\\omega_p$ to be 1.55. With this value we are close enough to the singularity to see interesting behaviour but not so close that is has yet blown up. \n",
    "Below the coefficients for the polynomial approximation of $\\alpha$ (called P) are computed for 1000 frequencies in the interval [1.2,1.55] and n=4."
   ]
  },
  {
   "cell_type": "code",
   "execution_count": 19,
   "id": "fb966094",
   "metadata": {},
   "outputs": [
    {
     "name": "stdout",
     "output_type": "stream",
     "text": [
      "The coefficients for the polynomial approximation for n=4 are\n",
      "[-1300.17935877  2538.20097172 -1862.99532534   607.04027328\n",
      "   -73.95216346]\n"
     ]
    }
   ],
   "source": [
    "#choose wp to be 1.55\n",
    "ws = np.linspace(1.2,1.55,1000) #1000 evenly spaced ws between 1.2 and 1.55\n",
    "alphas = []\n",
    "for w in ws:\n",
    "    M = E-w*S\n",
    "    alphas.append(solve_alpha(z,M)) #true values of polarizability\n",
    "    \n",
    "#construct matrix of omegas for n=4\n",
    "n = 4\n",
    "P_4 = np.zeros((len(ws),n+1))\n",
    "P_4[:,0] = 1\n",
    "for i in range(1,n+1):\n",
    "    P_4[:,i] = ws**(2*i)\n",
    "\n",
    "#find least squares fitting of coefficients for n=4\n",
    "coeffs_4 = least_squares(P_4, alphas)\n",
    "print('The coefficients for the polynomial approximation for n=4 are\\n'+str(coeffs_4))"
   ]
  },
  {
   "cell_type": "markdown",
   "id": "ee9317f7",
   "metadata": {},
   "source": [
    "Below the coefficients are computed for the same frequency range now for n=6. "
   ]
  },
  {
   "cell_type": "code",
   "execution_count": 20,
   "id": "d7ea02fc",
   "metadata": {},
   "outputs": [
    {
     "name": "stdout",
     "output_type": "stream",
     "text": [
      "The coefficients for the polynomial approximation for n=6 are\n",
      "[-19667.09643667  59538.92971858 -75011.72450731  50295.1301214\n",
      " -18918.28129246   3783.7175888    -314.27885222]\n"
     ]
    }
   ],
   "source": [
    "#construct matrix of omegas for n=6\n",
    "n = 6\n",
    "P_6 = np.zeros((len(ws),n+1))\n",
    "P_6[:,0] = 1\n",
    "for i in range(1,n+1):\n",
    "    P_6[:,i] = ws**(2*i)\n",
    "\n",
    "#find least squares fitting of coefficients for n=4\n",
    "coeffs_6 = least_squares(P_6, alphas)\n",
    "print('The coefficients for the polynomial approximation for n=6 are\\n'+str(coeffs_6))"
   ]
  },
  {
   "cell_type": "markdown",
   "id": "820b5a6f",
   "metadata": {},
   "source": [
    "Below the relative error in the polynomial approximation is plotted (on a log scale) for n=4 and n=6. "
   ]
  },
  {
   "cell_type": "code",
   "execution_count": 21,
   "id": "e331076f",
   "metadata": {},
   "outputs": [
    {
     "data": {
      "image/png": "[encoded data removed]",
      "text/plain": [
       "<Figure size 288x216 with 1 Axes>"
      ]
     },
     "metadata": {
      "needs_background": "light"
     },
     "output_type": "display_data"
    }
   ],
   "source": [
    "#compare relative error of approximations\n",
    "rel_error_4 = np.array([abs(((coeffs_4@P_4[i])-alphas[i])/alphas[i]) for i in range(len(alphas))])\n",
    "rel_error_6 = np.array([abs(((coeffs_6@P_6[i])-alphas[i])/alphas[i]) for i in range(len(alphas))])\n",
    "\n",
    "plt.figure()\n",
    "plt.plot(ws, rel_error_4, 'b', label='n=4')\n",
    "plt.plot(ws, rel_error_6, 'r', label='n=6')\n",
    "plt.yscale('log')\n",
    "plt.xlabel('Frequency')\n",
    "plt.ylabel('Relative error (log10)')\n",
    "plt.legend()\n",
    "plt.show()"
   ]
  },
  {
   "cell_type": "markdown",
   "id": "438da90a",
   "metadata": {},
   "source": [
    "The number of significant digits that each approximation yields can be computed as minus the log of the relative error computed above. \n",
    "Below the number of significant digits for each frequency for n=4 and n=6 are calculated and plotted. "
   ]
  },
  {
   "cell_type": "code",
   "execution_count": 22,
   "id": "15d7c624",
   "metadata": {},
   "outputs": [
    {
     "data": {
      "image/png": "[encoded data removed]",
      "text/plain": [
       "<Figure size 288x216 with 1 Axes>"
      ]
     },
     "metadata": {
      "needs_background": "light"
     },
     "output_type": "display_data"
    }
   ],
   "source": [
    "digits_4 = -np.log10(rel_error_4)\n",
    "digits_6 = -np.log10(rel_error_6)\n",
    "\n",
    "plt.figure()\n",
    "plt.plot(ws, digits_4, 'b', label='n=4')\n",
    "plt.plot(ws, digits_6, 'r', label='n=6')\n",
    "plt.xlabel('Frequency')\n",
    "plt.ylabel('# significant digits')\n",
    "plt.legend()\n",
    "plt.show()"
   ]
  },
  {
   "cell_type": "markdown",
   "id": "63551099",
   "metadata": {},
   "source": [
    "# Question h {-}\n",
    "Below the polarizability for frequencies in the range [1.2,4] are computed. The expression for the rational approximating function is rewritten as a linear approximation following the approach in the hint. From the expression of the linear approximation a Vandermonde matrix is contructed and used as input to the least squares function from question f to compute the coefficients of the linear approximation. In this first part, the n of the approximation is 2. "
   ]
  },
  {
   "cell_type": "code",
   "execution_count": 23,
   "id": "3cd1fa7f",
   "metadata": {},
   "outputs": [
    {
     "name": "stdout",
     "output_type": "stream",
     "text": [
      "The coefficients for the linear approximation for n=2 are\n",
      "[ 0.73245626 -0.56503326  0.06227827 -1.48274436  0.53544673]\n"
     ]
    }
   ],
   "source": [
    "#define ws in range [1.2,4]\n",
    "ws = np.linspace(1.2,4,1000) #1000 evenly spaced ws between 1.2 and 4\n",
    "alphas = []\n",
    "for w in ws:\n",
    "    M = E-w*S\n",
    "    alphas.append(solve_alpha(z,M)) #true values of polarizability\n",
    "alphas = np.array(alphas)\n",
    "\n",
    "#construct Vandermonde matrix\n",
    "def vandermonde(n, ws):\n",
    "    matrix = np.zeros((len(ws),2*n+1))\n",
    "    matrix[:,0] = 1\n",
    "    for i in range(1,n+1):\n",
    "        matrix[:,i] = ws**(i)\n",
    "    for i in range(n+1,2*n+1):\n",
    "        matrix[:,i] = -alphas*ws**(i-n)  \n",
    "    return matrix\n",
    "\n",
    "# find least squares fitting of rational coefficients for n=2\n",
    "Q2_matrix = vandermonde(2, ws)\n",
    "Q2_coeffs = least_squares(Q2_matrix, alphas)\n",
    "print('The coefficients for the linear approximation for n=2 are\\n'+str(Q2_coeffs))"
   ]
  },
  {
   "cell_type": "markdown",
   "id": "26b189e3",
   "metadata": {},
   "source": [
    "Using the coefficients from the least squares solution to the linear approximation, the rational approximated values of the polarizability (Q-values) are computed. "
   ]
  },
  {
   "cell_type": "code",
   "execution_count": 24,
   "id": "5c12226c",
   "metadata": {},
   "outputs": [],
   "source": [
    "#compute Q(w) from coefficients\n",
    "def rational_approx(n, coeffs, ws):\n",
    "    values = []\n",
    "    for w in ws:\n",
    "        top = [] #numerator in Q(w) expression\n",
    "        bottom = [1] #denominator in Q(w) expression\n",
    "        for j in range(n+1):\n",
    "            top.append(coeffs[j]*w**j)\n",
    "        for j in range(1,n+1):\n",
    "            bottom.append(coeffs[n+j]*w**j)\n",
    "        values.append(sum(top)/sum(bottom))\n",
    "    \n",
    "    return np.array(values)\n",
    "\n",
    "Q2 = rational_approx(2, Q2_coeffs, ws)"
   ]
  },
  {
   "cell_type": "markdown",
   "id": "1babff91",
   "metadata": {},
   "source": [
    "Below the relative errors in the approximated Q-values compared to the $\\alpha$-values are plotted."
   ]
  },
  {
   "cell_type": "code",
   "execution_count": 25,
   "id": "bfb56d2a",
   "metadata": {},
   "outputs": [
    {
     "data": {
      "image/png": "[encoded data removed]",
      "text/plain": [
       "<Figure size 288x216 with 1 Axes>"
      ]
     },
     "metadata": {
      "needs_background": "light"
     },
     "output_type": "display_data"
    }
   ],
   "source": [
    "#plot relative error of Q2 approximation\n",
    "plt.figure()\n",
    "plt.plot(ws, (Q2-alphas)/alphas, label='n=2')\n",
    "plt.xlabel('Frequency')\n",
    "plt.ylabel('Relative error')\n",
    "plt.legend()\n",
    "plt.show()"
   ]
  },
  {
   "cell_type": "markdown",
   "id": "675b83fc",
   "metadata": {},
   "source": [
    "Below the Q approximation is repeated for n=4. "
   ]
  },
  {
   "cell_type": "code",
   "execution_count": 26,
   "id": "cc0914a7",
   "metadata": {},
   "outputs": [
    {
     "name": "stdout",
     "output_type": "stream",
     "text": [
      "The coefficients for the rational approximation for n=4 are\n",
      "[ 1.71402611 -2.84873698  1.0675302   0.04153459 -0.00592252 -1.67120509\n",
      " -0.17904712  1.37719605 -0.53492096]\n"
     ]
    }
   ],
   "source": [
    "# find least squares fitting of rational coefficients for n=4\n",
    "Q4_matrix = vandermonde(4, ws)\n",
    "Q4_coeffs = least_squares(Q4_matrix, alphas)\n",
    "print('The coefficients for the rational approximation for n=4 are\\n'+str(Q4_coeffs))"
   ]
  },
  {
   "cell_type": "markdown",
   "id": "3424d270",
   "metadata": {},
   "source": [
    "Below the values of Q for n=4 are computed and the relative error of the approximation is plotted. "
   ]
  },
  {
   "cell_type": "code",
   "execution_count": 27,
   "id": "55cf3f2b",
   "metadata": {},
   "outputs": [
    {
     "data": {
      "image/png": "[encoded data removed]",
      "text/plain": [
       "<Figure size 288x216 with 1 Axes>"
      ]
     },
     "metadata": {
      "needs_background": "light"
     },
     "output_type": "display_data"
    }
   ],
   "source": [
    "#Q values from coefficients\n",
    "Q4 = rational_approx(4, Q4_coeffs, ws)\n",
    "\n",
    "#plot relative error of Q4 approximation\n",
    "plt.figure()\n",
    "plt.plot(ws, (Q4-alphas)/alphas, 'r', label='n=4')\n",
    "plt.xlabel('Frequency')\n",
    "plt.ylabel('Relative error')\n",
    "plt.legend()\n",
    "plt.show()"
   ]
  },
  {
   "cell_type": "markdown",
   "id": "bdebf3e3",
   "metadata": {},
   "source": [
    "Below the relative errors of the two approximations (n=2 and n=4) are compared quantitatively on a plot. "
   ]
  },
  {
   "cell_type": "code",
   "execution_count": 28,
   "id": "ec46b567",
   "metadata": {},
   "outputs": [
    {
     "data": {
      "image/png": "[encoded data removed]",
      "text/plain": [
       "<Figure size 288x216 with 1 Axes>"
      ]
     },
     "metadata": {
      "needs_background": "light"
     },
     "output_type": "display_data"
    }
   ],
   "source": [
    "#compare approximation for n=2 and n=4\n",
    "plt.figure()\n",
    "plt.plot(ws, (Q2-alphas)/alphas, label='n=2')\n",
    "plt.plot(ws, (Q4-alphas)/alphas, 'r', label='n=4')\n",
    "plt.xlabel('Frequency')\n",
    "plt.ylabel('Relative error')\n",
    "plt.legend()\n",
    "plt.show()"
   ]
  },
  {
   "cell_type": "markdown",
   "id": "0d503284",
   "metadata": {},
   "source": [
    "Below the values of $\\alpha$ in the extended $\\omega$-interval [-4,4] are considered. "
   ]
  },
  {
   "cell_type": "code",
   "execution_count": 29,
   "id": "dedef9a4",
   "metadata": {},
   "outputs": [
    {
     "data": {
      "image/png": "[encoded data removed]",
      "text/plain": [
       "<Figure size 288x216 with 1 Axes>"
      ]
     },
     "metadata": {
      "needs_background": "light"
     },
     "output_type": "display_data"
    }
   ],
   "source": [
    "#consider extended range of ws\n",
    "extended_ws = np.linspace(-4,4,1000) #1000 evenly spaced ws between -4 and 4\n",
    "\n",
    "alphas = [] #polarizabilities in the extended range\n",
    "for w in extended_ws:\n",
    "    M = E-w*S\n",
    "    alphas.append(solve_alpha(z,M)) #true values of polarizability\n",
    "alphas = np.array(alphas)\n",
    "\n",
    "plt.figure()\n",
    "plt.plot(extended_ws, alphas)\n",
    "plt.xlabel('Frequency')\n",
    "plt.ylabel('Polarizability')\n",
    "plt.show()"
   ]
  },
  {
   "cell_type": "markdown",
   "id": "7b93537c",
   "metadata": {},
   "source": [
    "To accurately approximate the extended range of frequencies, n is set to 8 in the rational approximating function. \n",
    "Below the Vandermonde matrix for n=8 is constructed and the coefficients of the approximation found using the least squares function. "
   ]
  },
  {
   "cell_type": "code",
   "execution_count": 30,
   "id": "2b6b3b26",
   "metadata": {},
   "outputs": [
    {
     "name": "stdout",
     "output_type": "stream",
     "text": [
      "The coefficients for the rational approximation for n=8 are\n",
      "[ 1.98067170e+00  2.40149194e-12 -4.48783549e+00 -5.35045154e-12\n",
      "  1.54527443e+00  1.77052396e-12 -2.23742173e-02 -4.14805459e-15\n",
      "  2.58988949e-06  1.19073491e-12 -3.38469134e+00 -4.00528418e-12\n",
      "  2.89286919e+00  3.37387725e-12 -6.93672016e-01 -7.74168977e-13\n",
      "  8.86203452e-03]\n"
     ]
    }
   ],
   "source": [
    "#construct Vandermonde for n=8\n",
    "Q8_matrix = vandermonde(8, extended_ws)\n",
    "Q8_coeffs = least_squares(Q8_matrix, alphas)\n",
    "print('The coefficients for the rational approximation for n=8 are\\n'+str(Q8_coeffs))"
   ]
  },
  {
   "cell_type": "markdown",
   "id": "e9c9f5b7",
   "metadata": {},
   "source": [
    "Below the values of Q for n=8 are computed and plotted to compare with the shape of the extended range plotted above.  "
   ]
  },
  {
   "cell_type": "code",
   "execution_count": 31,
   "id": "60d38410",
   "metadata": {},
   "outputs": [
    {
     "data": {
      "image/png": "[encoded data removed]",
      "text/plain": [
       "<Figure size 288x216 with 1 Axes>"
      ]
     },
     "metadata": {
      "needs_background": "light"
     },
     "output_type": "display_data"
    }
   ],
   "source": [
    "#Q values from coefficients\n",
    "Q = rational_approx(8, Q8_coeffs, extended_ws)\n",
    "\n",
    "plt.figure()\n",
    "plt.plot(extended_ws, Q)\n",
    "plt.xlabel('Frequency')\n",
    "plt.ylabel('Approximate polarizability')\n",
    "plt.show()"
   ]
  },
  {
   "cell_type": "markdown",
   "id": "36d80476",
   "metadata": {},
   "source": [
    "Below the relative errors of the approximation for n=8 for the extended frequency range are plotted."
   ]
  },
  {
   "cell_type": "code",
   "execution_count": 32,
   "id": "d60e950c",
   "metadata": {},
   "outputs": [
    {
     "data": {
      "image/png": "[encoded data removed]",
      "text/plain": [
       "<Figure size 288x216 with 1 Axes>"
      ]
     },
     "metadata": {
      "needs_background": "light"
     },
     "output_type": "display_data"
    }
   ],
   "source": [
    "#plot relative error\n",
    "plt.figure()\n",
    "plt.plot(extended_ws, (Q-alphas)/alphas)\n",
    "plt.xlabel('Frequency')\n",
    "plt.ylabel('Relative error')\n",
    "plt.show()"
   ]
  }
 ],
 "metadata": {
  "kernelspec": {
   "display_name": "Python 3",
   "language": "python",
   "name": "python3"
  },
  "language_info": {
   "codemirror_mode": {
    "name": "ipython",
    "version": 3
   },
   "file_extension": ".py",
   "mimetype": "text/x-python",
   "name": "python",
   "nbconvert_exporter": "python",
   "pygments_lexer": "ipython3",
   "version": "3.7.1"
  }
 },
 "nbformat": 4,
 "nbformat_minor": 5
}
